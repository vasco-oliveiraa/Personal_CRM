{
 "cells": [
  {
   "cell_type": "code",
   "execution_count": 16,
   "id": "97beb4dc-518c-4cbc-8dbf-16b2290030a8",
   "metadata": {},
   "outputs": [
    {
     "name": "stdout",
     "output_type": "stream",
     "text": [
      "No labels predicted.\n"
     ]
    }
   ],
   "source": [
    "# Load the pre-trained model and tokenizer\n",
    "import re\n",
    "from transformers import AutoTokenizer, AutoModelForTokenClassification\n",
    "\n",
    "tokenizer = AutoTokenizer.from_pretrained(\"dslim/bert-base-NER\")\n",
    "model = AutoModelForTokenClassification.from_pretrained(\"dslim/bert-base-NER\")\n",
    "\n",
    "# Prepare the input text\n",
    "text = \"I'm going to the beach next weekend\"\n",
    "max_length = 64\n",
    "tokens = tokenizer(text, padding=True, truncation=True, max_length=max_length, return_tensors=\"pt\")\n",
    "\n",
    "# Use the model to predict future date references\n",
    "outputs = model(**tokens)\n",
    "predictions = outputs.logits.argmax(-1)\n",
    "if predictions.sum() == 0:\n",
    "    print(\"No labels predicted.\")\n",
    "else:\n",
    "    labels = [model.config.id2label[label_id] for label_id in predictions[0] if label_id != -100]\n",
    "    label_map = {i: label for i, label in enumerate(model.config.label2id.keys())}\n",
    "    labels = [label_map[label_id] for label_id in labels]\n",
    "    \n",
    "    # Identify date references using regular expressions\n",
    "    date_patterns = [\n",
    "        r\"next\\s+\\b(day|week|month|year)\\b\",\n",
    "        r\"\\d{1,2}(/|-)\\d{1,2}(/|-)\\d{2,4}\",\n",
    "        r\"\\d{2,4}(/|-)\\d{1,2}(/|-)\\d{1,2}\",\n",
    "        r\"\\b(?:Jan|Feb|Mar|Apr|May|Jun|Jul|Aug|Sep|Oct|Nov|Dec)\\b\\s+\\d{1,2}\"\n",
    "    ]\n",
    "    has_date_reference = False\n",
    "    for pattern in date_patterns:\n",
    "        match = re.search(pattern, text, re.IGNORECASE)\n",
    "        if match:\n",
    "            start, end = match.span()\n",
    "            token_ids = tokens[\"input_ids\"][0][start:end]\n",
    "            ref_labels = [label_map[label_id] for label_id in predictions[0][start:end] if label_id != -100]\n",
    "            if \"B-DAT\" in ref_labels or \"I-DAT\" in ref_labels:\n",
    "                has_date_reference = True\n",
    "                break\n",
    "    \n",
    "    # Interpret the predictions\n",
    "    if has_date_reference:\n",
    "        print(\"The text contains a future date reference\")\n",
    "    else:\n",
    "        print(\"The text does not contain a future date reference\")\n"
   ]
  },
  {
   "cell_type": "code",
   "execution_count": 17,
   "id": "95875e99-c33a-49a2-b3db-551e6fa269c0",
   "metadata": {},
   "outputs": [
    {
     "name": "stdout",
     "output_type": "stream",
     "text": [
      "Collecting streamlit-option-menu\n",
      "  Downloading streamlit_option_menu-0.3.2-py3-none-any.whl (712 kB)\n",
      "     ---------------------------------------- 0.0/712.3 kB ? eta -:--:--\n",
      "     ------------------------- ----------- 491.5/712.3 kB 10.2 MB/s eta 0:00:01\n",
      "     -------------------------------------- 712.3/712.3 kB 9.0 MB/s eta 0:00:00\n",
      "Requirement already satisfied: streamlit>=0.63 in c:\\users\\public\\anaconda\\envs\\personalcrm\\lib\\site-packages (from streamlit-option-menu) (1.22.0)\n",
      "Requirement already satisfied: pydeck>=0.1.dev5 in c:\\users\\public\\anaconda\\envs\\personalcrm\\lib\\site-packages (from streamlit>=0.63->streamlit-option-menu) (0.8.1b0)\n",
      "Requirement already satisfied: numpy in c:\\users\\public\\anaconda\\envs\\personalcrm\\lib\\site-packages (from streamlit>=0.63->streamlit-option-menu) (1.24.3)\n",
      "Requirement already satisfied: tornado>=6.0.3 in c:\\users\\public\\anaconda\\envs\\personalcrm\\lib\\site-packages (from streamlit>=0.63->streamlit-option-menu) (6.2)\n",
      "Requirement already satisfied: pympler>=0.9 in c:\\users\\public\\anaconda\\envs\\personalcrm\\lib\\site-packages (from streamlit>=0.63->streamlit-option-menu) (1.0.1)\n",
      "Requirement already satisfied: tzlocal>=1.1 in c:\\users\\public\\anaconda\\envs\\personalcrm\\lib\\site-packages (from streamlit>=0.63->streamlit-option-menu) (4.3)\n",
      "Requirement already satisfied: cachetools>=4.0 in c:\\users\\public\\anaconda\\envs\\personalcrm\\lib\\site-packages (from streamlit>=0.63->streamlit-option-menu) (5.3.0)\n",
      "Requirement already satisfied: python-dateutil in c:\\users\\public\\anaconda\\envs\\personalcrm\\lib\\site-packages (from streamlit>=0.63->streamlit-option-menu) (2.8.2)\n",
      "Requirement already satisfied: altair<5,>=3.2.0 in c:\\users\\public\\anaconda\\envs\\personalcrm\\lib\\site-packages (from streamlit>=0.63->streamlit-option-menu) (4.2.2)\n",
      "Requirement already satisfied: gitpython!=3.1.19 in c:\\users\\public\\anaconda\\envs\\personalcrm\\lib\\site-packages (from streamlit>=0.63->streamlit-option-menu) (3.1.31)\n",
      "Requirement already satisfied: toml in c:\\users\\public\\anaconda\\envs\\personalcrm\\lib\\site-packages (from streamlit>=0.63->streamlit-option-menu) (0.10.2)\n",
      "Requirement already satisfied: rich>=10.11.0 in c:\\users\\public\\anaconda\\envs\\personalcrm\\lib\\site-packages (from streamlit>=0.63->streamlit-option-menu) (13.3.4)\n",
      "Requirement already satisfied: pyarrow>=4.0 in c:\\users\\public\\anaconda\\envs\\personalcrm\\lib\\site-packages (from streamlit>=0.63->streamlit-option-menu) (11.0.0)\n",
      "Requirement already satisfied: tenacity<9,>=8.0.0 in c:\\users\\public\\anaconda\\envs\\personalcrm\\lib\\site-packages (from streamlit>=0.63->streamlit-option-menu) (8.2.2)\n",
      "Requirement already satisfied: click>=7.0 in c:\\users\\public\\anaconda\\envs\\personalcrm\\lib\\site-packages (from streamlit>=0.63->streamlit-option-menu) (8.1.3)\n",
      "Requirement already satisfied: blinker>=1.0.0 in c:\\users\\public\\anaconda\\envs\\personalcrm\\lib\\site-packages (from streamlit>=0.63->streamlit-option-menu) (1.6.2)\n",
      "Requirement already satisfied: protobuf<4,>=3.12 in c:\\users\\public\\anaconda\\envs\\personalcrm\\lib\\site-packages (from streamlit>=0.63->streamlit-option-menu) (3.20.3)\n",
      "Requirement already satisfied: importlib-metadata>=1.4 in c:\\users\\public\\anaconda\\envs\\personalcrm\\lib\\site-packages (from streamlit>=0.63->streamlit-option-menu) (6.0.0)\n",
      "Requirement already satisfied: typing-extensions>=3.10.0.0 in c:\\users\\public\\anaconda\\envs\\personalcrm\\lib\\site-packages (from streamlit>=0.63->streamlit-option-menu) (4.5.0)\n",
      "Requirement already satisfied: pillow>=6.2.0 in c:\\users\\public\\anaconda\\envs\\personalcrm\\lib\\site-packages (from streamlit>=0.63->streamlit-option-menu) (9.5.0)\n",
      "Requirement already satisfied: requests>=2.4 in c:\\users\\public\\anaconda\\envs\\personalcrm\\lib\\site-packages (from streamlit>=0.63->streamlit-option-menu) (2.28.1)\n",
      "Requirement already satisfied: pandas<3,>=0.25 in c:\\users\\public\\anaconda\\envs\\personalcrm\\lib\\site-packages (from streamlit>=0.63->streamlit-option-menu) (1.5.3)\n",
      "Requirement already satisfied: validators>=0.2 in c:\\users\\public\\anaconda\\envs\\personalcrm\\lib\\site-packages (from streamlit>=0.63->streamlit-option-menu) (0.20.0)\n",
      "Requirement already satisfied: packaging>=14.1 in c:\\users\\public\\anaconda\\envs\\personalcrm\\lib\\site-packages (from streamlit>=0.63->streamlit-option-menu) (23.0)\n",
      "Requirement already satisfied: watchdog in c:\\users\\public\\anaconda\\envs\\personalcrm\\lib\\site-packages (from streamlit>=0.63->streamlit-option-menu) (3.0.0)\n",
      "Requirement already satisfied: jinja2 in c:\\users\\public\\anaconda\\envs\\personalcrm\\lib\\site-packages (from altair<5,>=3.2.0->streamlit>=0.63->streamlit-option-menu) (3.1.2)\n",
      "Requirement already satisfied: toolz in c:\\users\\public\\anaconda\\envs\\personalcrm\\lib\\site-packages (from altair<5,>=3.2.0->streamlit>=0.63->streamlit-option-menu) (0.12.0)\n",
      "Requirement already satisfied: entrypoints in c:\\users\\public\\anaconda\\envs\\personalcrm\\lib\\site-packages (from altair<5,>=3.2.0->streamlit>=0.63->streamlit-option-menu) (0.4)\n",
      "Requirement already satisfied: jsonschema>=3.0 in c:\\users\\public\\anaconda\\envs\\personalcrm\\lib\\site-packages (from altair<5,>=3.2.0->streamlit>=0.63->streamlit-option-menu) (4.17.3)\n",
      "Requirement already satisfied: colorama in c:\\users\\public\\anaconda\\envs\\personalcrm\\lib\\site-packages (from click>=7.0->streamlit>=0.63->streamlit-option-menu) (0.4.6)\n",
      "Requirement already satisfied: gitdb<5,>=4.0.1 in c:\\users\\public\\anaconda\\envs\\personalcrm\\lib\\site-packages (from gitpython!=3.1.19->streamlit>=0.63->streamlit-option-menu) (4.0.10)\n",
      "Requirement already satisfied: zipp>=0.5 in c:\\users\\public\\anaconda\\envs\\personalcrm\\lib\\site-packages (from importlib-metadata>=1.4->streamlit>=0.63->streamlit-option-menu) (3.11.0)\n",
      "Requirement already satisfied: pytz>=2020.1 in c:\\users\\public\\anaconda\\envs\\personalcrm\\lib\\site-packages (from pandas<3,>=0.25->streamlit>=0.63->streamlit-option-menu) (2022.7)\n",
      "Requirement already satisfied: six>=1.5 in c:\\users\\public\\anaconda\\envs\\personalcrm\\lib\\site-packages (from python-dateutil->streamlit>=0.63->streamlit-option-menu) (1.16.0)\n",
      "Requirement already satisfied: charset-normalizer<3,>=2 in c:\\users\\public\\anaconda\\envs\\personalcrm\\lib\\site-packages (from requests>=2.4->streamlit>=0.63->streamlit-option-menu) (2.0.4)\n",
      "Requirement already satisfied: certifi>=2017.4.17 in c:\\users\\public\\anaconda\\envs\\personalcrm\\lib\\site-packages (from requests>=2.4->streamlit>=0.63->streamlit-option-menu) (2022.12.7)\n",
      "Requirement already satisfied: idna<4,>=2.5 in c:\\users\\public\\anaconda\\envs\\personalcrm\\lib\\site-packages (from requests>=2.4->streamlit>=0.63->streamlit-option-menu) (3.4)\n",
      "Requirement already satisfied: urllib3<1.27,>=1.21.1 in c:\\users\\public\\anaconda\\envs\\personalcrm\\lib\\site-packages (from requests>=2.4->streamlit>=0.63->streamlit-option-menu) (1.26.15)\n",
      "Requirement already satisfied: markdown-it-py<3.0.0,>=2.2.0 in c:\\users\\public\\anaconda\\envs\\personalcrm\\lib\\site-packages (from rich>=10.11.0->streamlit>=0.63->streamlit-option-menu) (2.2.0)\n",
      "Requirement already satisfied: pygments<3.0.0,>=2.13.0 in c:\\users\\public\\anaconda\\envs\\personalcrm\\lib\\site-packages (from rich>=10.11.0->streamlit>=0.63->streamlit-option-menu) (2.15.1)\n",
      "Requirement already satisfied: pytz-deprecation-shim in c:\\users\\public\\anaconda\\envs\\personalcrm\\lib\\site-packages (from tzlocal>=1.1->streamlit>=0.63->streamlit-option-menu) (0.1.0.post0)\n",
      "Requirement already satisfied: tzdata in c:\\users\\public\\anaconda\\envs\\personalcrm\\lib\\site-packages (from tzlocal>=1.1->streamlit>=0.63->streamlit-option-menu) (2023.3)\n",
      "Requirement already satisfied: decorator>=3.4.0 in c:\\users\\public\\anaconda\\envs\\personalcrm\\lib\\site-packages (from validators>=0.2->streamlit>=0.63->streamlit-option-menu) (5.1.1)\n",
      "Requirement already satisfied: smmap<6,>=3.0.1 in c:\\users\\public\\anaconda\\envs\\personalcrm\\lib\\site-packages (from gitdb<5,>=4.0.1->gitpython!=3.1.19->streamlit>=0.63->streamlit-option-menu) (5.0.0)\n",
      "Requirement already satisfied: MarkupSafe>=2.0 in c:\\users\\public\\anaconda\\envs\\personalcrm\\lib\\site-packages (from jinja2->altair<5,>=3.2.0->streamlit>=0.63->streamlit-option-menu) (2.1.1)\n",
      "Requirement already satisfied: pyrsistent!=0.17.0,!=0.17.1,!=0.17.2,>=0.14.0 in c:\\users\\public\\anaconda\\envs\\personalcrm\\lib\\site-packages (from jsonschema>=3.0->altair<5,>=3.2.0->streamlit>=0.63->streamlit-option-menu) (0.18.0)\n",
      "Requirement already satisfied: attrs>=17.4.0 in c:\\users\\public\\anaconda\\envs\\personalcrm\\lib\\site-packages (from jsonschema>=3.0->altair<5,>=3.2.0->streamlit>=0.63->streamlit-option-menu) (22.1.0)\n",
      "Requirement already satisfied: mdurl~=0.1 in c:\\users\\public\\anaconda\\envs\\personalcrm\\lib\\site-packages (from markdown-it-py<3.0.0,>=2.2.0->rich>=10.11.0->streamlit>=0.63->streamlit-option-menu) (0.1.2)\n",
      "Installing collected packages: streamlit-option-menu\n",
      "Successfully installed streamlit-option-menu-0.3.2\n",
      "Note: you may need to restart the kernel to use updated packages.\n"
     ]
    },
    {
     "name": "stderr",
     "output_type": "stream",
     "text": [
      "WARNING: Ignoring invalid distribution -treamlit (c:\\users\\public\\anaconda\\envs\\personalcrm\\lib\\site-packages)\n",
      "WARNING: Ignoring invalid distribution -treamlit (c:\\users\\public\\anaconda\\envs\\personalcrm\\lib\\site-packages)\n",
      "WARNING: Ignoring invalid distribution -treamlit (c:\\users\\public\\anaconda\\envs\\personalcrm\\lib\\site-packages)\n",
      "WARNING: Ignoring invalid distribution -treamlit (c:\\users\\public\\anaconda\\envs\\personalcrm\\lib\\site-packages)\n",
      "WARNING: Ignoring invalid distribution -treamlit (c:\\users\\public\\anaconda\\envs\\personalcrm\\lib\\site-packages)\n",
      "WARNING: Ignoring invalid distribution -treamlit (c:\\users\\public\\anaconda\\envs\\personalcrm\\lib\\site-packages)\n",
      "WARNING: Ignoring invalid distribution -treamlit (c:\\users\\public\\anaconda\\envs\\personalcrm\\lib\\site-packages)\n"
     ]
    }
   ],
   "source": [
    "pip install streamlit-option-menu"
   ]
  }
 ],
 "metadata": {
  "kernelspec": {
   "display_name": "PersonalCRM",
   "language": "python",
   "name": "personalcrm"
  },
  "language_info": {
   "codemirror_mode": {
    "name": "ipython",
    "version": 3
   },
   "file_extension": ".py",
   "mimetype": "text/x-python",
   "name": "python",
   "nbconvert_exporter": "python",
   "pygments_lexer": "ipython3",
   "version": "3.9.16"
  }
 },
 "nbformat": 4,
 "nbformat_minor": 5
}
