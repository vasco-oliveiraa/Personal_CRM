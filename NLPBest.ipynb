{
 "cells": [
  {
   "cell_type": "code",
   "execution_count": 1,
   "id": "aa2bf4dd-4098-43c0-bdcd-c341d7d0654b",
   "metadata": {},
   "outputs": [],
   "source": [
    "import spacy\n",
    "import datetime\n",
    "from word2number import w2n\n",
    "from dateutil.relativedelta import relativedelta\n",
    "from dateutil.parser import parse\n",
    "\n",
    "# Define a function to extract dates and messages from a given text\n",
    "def extract_dates_and_messages(text):\n",
    "    \n",
    "    # Load the small English language model from spacy\n",
    "    nlp = spacy.load(\"en_core_web_sm\")\n",
    "    \n",
    "    # Process the text with spacy\n",
    "    current_date = datetime.datetime.now()\n",
    "    \n",
    "    doc = nlp(text)\n",
    "    result = []\n",
    "    for entity in doc.ents:\n",
    "        # Extract the main message from the sentence containing the entity\n",
    "        main_message = entity.sent.text\n",
    "\n",
    "        if entity.label_ in [\"DATE\"]:\n",
    "            # If the entity is a date or time, extract the future date and unit of time\n",
    "            future_date = entity.text\n",
    "            \n",
    "            num, unit = None, None\n",
    "            \n",
    "            try:\n",
    "                if 'the' in future_date.split():\n",
    "                    date = parse(future_date.replace('the', ''))\n",
    "                else:\n",
    "                    date = parse(future_date)\n",
    "                \n",
    "                future_date = date.strftime('%Y-%m-%d')\n",
    "                    \n",
    "            except Exception:\n",
    "                \n",
    "                for token in entity:\n",
    "                    \n",
    "                    if token.like_num:\n",
    "                        # Convert the number words to integers using the word2number library\n",
    "                        num = int(w2n.word_to_num(token.text))\n",
    "                        \n",
    "                    elif token.text in [\"day\", \"days\", \"week\", \"weeks\", \"month\", \"months\", \"year\", \"years\"]:\n",
    "                        # Extract the unit of time from the entity\n",
    "                        unit = token.text\n",
    "\n",
    "                if unit and num is None:\n",
    "                    \n",
    "                    adjectives = [\"next\", \"following\", \"upcoming\"]\n",
    "                    \n",
    "                    for token in entity:\n",
    "                        if token.pos_ == \"ADJ\" and token.text.lower() in adjectives:\n",
    "                            num = 1\n",
    "\n",
    "                if num is not None:\n",
    "                    \n",
    "                    if unit.startswith(\"day\"):\n",
    "                        # Add the number of days to the current date to get the future date\n",
    "                        future_date = (current_date + datetime.timedelta(days=num)).strftime('%Y-%m-%d')\n",
    "                    elif unit.startswith(\"week\"):\n",
    "                        # Add the number of weeks to the current date to get the future date\n",
    "                        future_date = (current_date + datetime.timedelta(weeks=num)).strftime('%Y-%m-%d')\n",
    "                    elif unit.startswith(\"month\"):\n",
    "                        # Add the number of months to the current date to get the future date\n",
    "                        future_date = (current_date + relativedelta(months=num)).strftime('%Y-%m-%d')\n",
    "                    elif unit.startswith(\"year\"):\n",
    "                        # Add the number of years to the current date to get the future date\n",
    "                        future_date = datetime.datetime(current_date.year + num, 1, 1).strftime('%Y-%m-%d')\n",
    "                        \n",
    "                    else:\n",
    "                        future_date = None\n",
    "\n",
    "        else:\n",
    "            future_date = None\n",
    "        \n",
    "        if future_date is not None:\n",
    "            if future_date < current_date.strftime('%Y-%m-%d'):\n",
    "                future_date = None\n",
    "                \n",
    "        if future_date is not None:\n",
    "            \n",
    "            try:\n",
    "                datetime.datetime.strptime(future_date, '%Y-%m-%d')\n",
    "                \n",
    "                result.append((future_date, main_message))\n",
    "                \n",
    "            except ValueError:\n",
    "                \n",
    "                continue\n",
    "        \n",
    "    return result"
   ]
  },
  {
   "cell_type": "code",
   "execution_count": 203,
   "id": "6544f0fd-3282-45c7-be2c-ce42ecc689b3",
   "metadata": {},
   "outputs": [],
   "source": [
    "# interactions={\n",
    "    \n",
    "#     1: \"Mentioned an upcoming business trip to Europe on the June 15th and the preparation needed for the meetings.\",\n",
    "#     2: \"Talked about a recent hobby of learning how to play the guitar and practicing every day since 29/09/2022.\",\n",
    "#     3: \"Mentioned a milestone of completing a 100 day meditation challenge on January 1st, 2023 and feeling more focused and calm.\",\n",
    "#     4: \"Discussed an upcoming charity event that they're organizing on the 15th of April and the need for more volunteers.\",\n",
    "#     5: \"Talked about a major achievement of completing a marathon on 2024/06/30 after months of training.\",\n",
    "#     6: \"Mentioned an important project deadline at work in three weeks and the need for extra hours and effort to complete it.\",\n",
    "#     7: \"Talked about an upcoming move to a new city next month and the excitement and challenges of starting a new chapter.\",\n",
    "#     8: \"Mentioned a milestone of reading 50 books this year and the personal growth and learning achieved through it.\",\n",
    "#     9: \"Discussed an upcoming concert of their favorite band on July 4th, 2023 and the anticipation of hearing their new album live.\",\n",
    "#     10: \"Talked about an achievement of volunteering for a local organization for the past year and feeling fulfilled by giving back to the community.\",\n",
    "#     11: \"Mentioned an upcoming deadline for a work project that's due in two weeks. Needs to finalize the report and submit it for review by the end of the month.\",\n",
    "#     12: \"Talked about achieving a personal goal of losing 10 pounds in the past two months by following a strict workout and diet regimen.\",\n",
    "#     13: \"Mentioned a milestone of completing 5 years at the current job and is planning to celebrate with friends and family next month.\",\n",
    "#     14: \"Discussed an upcoming wedding date in June and the preparations needed for the ceremony and reception.\",\n",
    "#     15: \"Talked about a major achievement of getting a promotion at work after a year-long effort and hard work.\",\n",
    "#     16: \"Mentioned an important deadline for submitting college applications, which is in two weeks, and is feeling stressed and overwhelmed.\",\n",
    "#     17: \"Talked about an upcoming vacation planned with family to Hawaii next month and the excitement of exploring new places.\",\n",
    "#     18: \"Mentioned a milestone of completing a 10k run last weekend, which was a personal best time, and feeling proud of the accomplishment.\",\n",
    "#     19: \"Discussed an upcoming product launch for their company in two weeks and the pressure of meeting the marketing and sales targets.\",\n",
    "#     20: \"Talked about an achievement of publishing their first research paper in a reputable journal and feeling gratified for the recognition.\"\n",
    "# }"
   ]
  },
  {
   "cell_type": "code",
   "execution_count": 11,
   "id": "80ad8579-e65c-45f9-8170-ab95a0752ed7",
   "metadata": {},
   "outputs": [
    {
     "name": "stderr",
     "output_type": "stream",
     "text": [
      "C:\\Users\\Vasco Oliveira\\AppData\\Local\\Temp\\ipykernel_3772\\3132446262.py:3: FutureWarning: The pandas.datetime class is deprecated and will be removed from pandas in a future version. Import from datetime module instead.\n",
      "  pd.datetime.now().date()\n"
     ]
    },
    {
     "data": {
      "text/plain": [
       "datetime.date(2023, 5, 13)"
      ]
     },
     "execution_count": 11,
     "metadata": {},
     "output_type": "execute_result"
    }
   ],
   "source": [
    "import pandas as pd\n",
    "\n",
    "pd.datetime.now().date()"
   ]
  }
 ],
 "metadata": {
  "kernelspec": {
   "display_name": "PersonalCRM",
   "language": "python",
   "name": "personalcrm"
  },
  "language_info": {
   "codemirror_mode": {
    "name": "ipython",
    "version": 3
   },
   "file_extension": ".py",
   "mimetype": "text/x-python",
   "name": "python",
   "nbconvert_exporter": "python",
   "pygments_lexer": "ipython3",
   "version": "3.9.16"
  }
 },
 "nbformat": 4,
 "nbformat_minor": 5
}
