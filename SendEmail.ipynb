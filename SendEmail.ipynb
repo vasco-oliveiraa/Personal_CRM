{
 "cells": [
  {
   "cell_type": "code",
   "execution_count": 22,
   "id": "b1912079-fa8c-46c4-a449-6d4dcd3f2f09",
   "metadata": {},
   "outputs": [],
   "source": [
    "import smtplib\n",
    "from email.mime.text import MIMEText\n",
    "from email.mime.multipart import MIMEMultipart\n",
    "from dotenv import load_dotenv\n",
    "import os\n",
    "\n",
    "def send_email(receiver_email, subject, message):\n",
    "    \n",
    "    # Get the absolute path of the current directory\n",
    "    current_dir = os.getcwd()\n",
    "\n",
    "    # Specify the relative path to your .env file\n",
    "    dotenv_path = os.path.join(current_dir, \".env\")\n",
    "\n",
    "    # Load environment variables from the .env file\n",
    "    load_dotenv(dotenv_path)\n",
    "\n",
    "    # Email configuration\n",
    "    sender_email = 'personalcrm0@gmail.com'\n",
    "    password = 'loptqelaggqgsluw'#os.getenv(\"GMAIL_PASSWORD\")\n",
    "\n",
    "    # Create a MIME message object\n",
    "    msg = MIMEMultipart()\n",
    "    msg['From'] = sender_email\n",
    "    msg['To'] = receiver_email\n",
    "    msg['Subject'] = subject\n",
    "\n",
    "    # Attach the message to the MIME object\n",
    "    msg.attach(MIMEText(message, 'plain'))\n",
    "\n",
    "    try:\n",
    "        # Create a secure SSL connection to Gmail's SMTP server\n",
    "        server = smtplib.SMTP_SSL('smtp.gmail.com', 465)\n",
    "\n",
    "        # Login to your Gmail account\n",
    "        server.login(sender_email, password)\n",
    "\n",
    "        # Send the email\n",
    "        server.sendmail(sender_email, receiver_email, msg.as_string())\n",
    "\n",
    "        print('Email sent successfully!')\n",
    "    except Exception as e:\n",
    "        print('An error occurred while sending the email:', str(e))\n",
    "    finally:\n",
    "        # Close the connection to the SMTP server\n",
    "        server.quit()"
   ]
  },
  {
   "cell_type": "code",
   "execution_count": 23,
   "id": "8014b432-170f-4b94-a519-be4f401de71a",
   "metadata": {},
   "outputs": [],
   "source": [
    "receiver_email = 'vasco.oliveira260@gmail.com'\n",
    "subject = 'This is a test'\n",
    "message = 'Hello,\\n\\nI wanna see what this is.'"
   ]
  },
  {
   "cell_type": "code",
   "execution_count": null,
   "id": "c266b1cf-cf31-424e-af67-934426dbb34e",
   "metadata": {},
   "outputs": [
    {
     "name": "stdout",
     "output_type": "stream",
     "text": [
      "An error occurred while sending the email: (534, b'5.7.9 Application-specific password required. Learn more at\\n5.7.9  https://support.google.com/mail/?p=InvalidSecondFactor c6-20020a5d4f06000000b002e5f6f8fc4fsm2466322wru.100 - gsmtp')\n"
     ]
    }
   ],
   "source": [
    "send_email(receiver_email, subject, message)"
   ]
  }
 ],
 "metadata": {
  "kernelspec": {
   "display_name": "PersonalCRM",
   "language": "python",
   "name": "personalcrm"
  },
  "language_info": {
   "codemirror_mode": {
    "name": "ipython",
    "version": 3
   },
   "file_extension": ".py",
   "mimetype": "text/x-python",
   "name": "python",
   "nbconvert_exporter": "python",
   "pygments_lexer": "ipython3",
   "version": "3.9.16"
  }
 },
 "nbformat": 4,
 "nbformat_minor": 5
}
