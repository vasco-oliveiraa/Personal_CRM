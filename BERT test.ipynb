{
 "cells": [
  {
   "cell_type": "code",
   "execution_count": 16,
   "id": "97beb4dc-518c-4cbc-8dbf-16b2290030a8",
   "metadata": {},
   "outputs": [
    {
     "name": "stdout",
     "output_type": "stream",
     "text": [
      "No labels predicted.\n"
     ]
    }
   ],
   "source": [
    "# Load the pre-trained model and tokenizer\n",
    "import re\n",
    "from transformers import AutoTokenizer, AutoModelForTokenClassification\n",
    "\n",
    "tokenizer = AutoTokenizer.from_pretrained(\"dslim/bert-base-NER\")\n",
    "model = AutoModelForTokenClassification.from_pretrained(\"dslim/bert-base-NER\")\n",
    "\n",
    "# Prepare the input text\n",
    "text = \"I'm going to the beach next weekend\"\n",
    "max_length = 64\n",
    "tokens = tokenizer(text, padding=True, truncation=True, max_length=max_length, return_tensors=\"pt\")\n",
    "\n",
    "# Use the model to predict future date references\n",
    "outputs = model(**tokens)\n",
    "predictions = outputs.logits.argmax(-1)\n",
    "if predictions.sum() == 0:\n",
    "    print(\"No labels predicted.\")\n",
    "else:\n",
    "    labels = [model.config.id2label[label_id] for label_id in predictions[0] if label_id != -100]\n",
    "    label_map = {i: label for i, label in enumerate(model.config.label2id.keys())}\n",
    "    labels = [label_map[label_id] for label_id in labels]\n",
    "    \n",
    "    # Identify date references using regular expressions\n",
    "    date_patterns = [\n",
    "        r\"next\\s+\\b(day|week|month|year)\\b\",\n",
    "        r\"\\d{1,2}(/|-)\\d{1,2}(/|-)\\d{2,4}\",\n",
    "        r\"\\d{2,4}(/|-)\\d{1,2}(/|-)\\d{1,2}\",\n",
    "        r\"\\b(?:Jan|Feb|Mar|Apr|May|Jun|Jul|Aug|Sep|Oct|Nov|Dec)\\b\\s+\\d{1,2}\"\n",
    "    ]\n",
    "    has_date_reference = False\n",
    "    for pattern in date_patterns:\n",
    "        match = re.search(pattern, text, re.IGNORECASE)\n",
    "        if match:\n",
    "            start, end = match.span()\n",
    "            token_ids = tokens[\"input_ids\"][0][start:end]\n",
    "            ref_labels = [label_map[label_id] for label_id in predictions[0][start:end] if label_id != -100]\n",
    "            if \"B-DAT\" in ref_labels or \"I-DAT\" in ref_labels:\n",
    "                has_date_reference = True\n",
    "                break\n",
    "    \n",
    "    # Interpret the predictions\n",
    "    if has_date_reference:\n",
    "        print(\"The text contains a future date reference\")\n",
    "    else:\n",
    "        print(\"The text does not contain a future date reference\")\n"
   ]
  }
 ],
 "metadata": {
  "kernelspec": {
   "display_name": "PersonalCRM",
   "language": "python",
   "name": "personalcrm"
  },
  "language_info": {
   "codemirror_mode": {
    "name": "ipython",
    "version": 3
   },
   "file_extension": ".py",
   "mimetype": "text/x-python",
   "name": "python",
   "nbconvert_exporter": "python",
   "pygments_lexer": "ipython3",
   "version": "3.9.16"
  }
 },
 "nbformat": 4,
 "nbformat_minor": 5
}
